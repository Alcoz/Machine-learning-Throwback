{
 "cells": [
  {
   "cell_type": "markdown",
   "metadata": {},
   "source": [
    "# <u> Les modèles de clustering</u>\n",
    "Le **clustering** est une méthode visant à regrouper des données en **clusters**.\n",
    "Les modèles de clustering ont deux objectifs : \n",
    "* Minimiser les distances intra-clusters (Avoir des clusters homogènes)\n",
    "* Maximiser les distance inter-clusters (Que chaque cluster soit différent des autres)"
   ]
  },
  {
   "cell_type": "code",
   "execution_count": null,
   "metadata": {},
   "outputs": [],
   "source": []
  }
 ],
 "metadata": {
  "kernelspec": {
   "display_name": "Python 3",
   "language": "python",
   "name": "python3"
  },
  "language_info": {
   "codemirror_mode": {
    "name": "ipython",
    "version": 3
   },
   "file_extension": ".py",
   "mimetype": "text/x-python",
   "name": "python",
   "nbconvert_exporter": "python",
   "pygments_lexer": "ipython3",
   "version": "3.8.5"
  }
 },
 "nbformat": 4,
 "nbformat_minor": 4
}
