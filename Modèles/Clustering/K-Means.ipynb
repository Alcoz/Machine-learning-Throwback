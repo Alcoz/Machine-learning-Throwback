{
 "cells": [
  {
   "cell_type": "markdown",
   "metadata": {},
   "source": [
    "# <u> K-means : L'incontournable</u>\n",
    "Cet algorithme de clustering à l'avantage d'être simple à comprendre et rapide d'exécution\n",
    "### Principe : \n",
    "* Choix d'un nombre de points aléatoires qui représenteront les centroïdes de nos clusters\n",
    "* Affectation de point (non-affecté) au cluster le plus proche (Calcul de sa distance avec le centroïde)\n",
    "* Mise à jour des coordonnées des centroïdes\n",
    "\n",
    "### Avantages : \n",
    "* K-means est très rapide d'exécution, qu'elle que soit la taille du dataset (complexité linéaire)\n",
    "\n",
    "### Inconvénients :\n",
    "* Nécessite le nombre de cluster (même s'il existe quelques techniques pour contourner ce problème)\n",
    "* Initialisation aléatoire donc les résultats ne sont pas forcément consistants"
   ]
  },
  {
   "cell_type": "markdown",
   "metadata": {},
   "source": [
    "## Imports et Chargement du dataset\n",
    "Le jeu de données **Iris** comprend 3 variétés différentes"
   ]
  },
  {
   "cell_type": "code",
   "execution_count": 13,
   "metadata": {},
   "outputs": [
    {
     "data": {
      "text/html": [
       "<div>\n",
       "<style scoped>\n",
       "    .dataframe tbody tr th:only-of-type {\n",
       "        vertical-align: middle;\n",
       "    }\n",
       "\n",
       "    .dataframe tbody tr th {\n",
       "        vertical-align: top;\n",
       "    }\n",
       "\n",
       "    .dataframe thead th {\n",
       "        text-align: right;\n",
       "    }\n",
       "</style>\n",
       "<table border=\"1\" class=\"dataframe\">\n",
       "  <thead>\n",
       "    <tr style=\"text-align: right;\">\n",
       "      <th></th>\n",
       "      <th>sepal.length</th>\n",
       "      <th>sepal.width</th>\n",
       "      <th>petal.length</th>\n",
       "      <th>petal.width</th>\n",
       "      <th>variety</th>\n",
       "    </tr>\n",
       "  </thead>\n",
       "  <tbody>\n",
       "    <tr>\n",
       "      <th>0</th>\n",
       "      <td>5.1</td>\n",
       "      <td>3.5</td>\n",
       "      <td>1.4</td>\n",
       "      <td>0.2</td>\n",
       "      <td>Setosa</td>\n",
       "    </tr>\n",
       "    <tr>\n",
       "      <th>1</th>\n",
       "      <td>4.9</td>\n",
       "      <td>3.0</td>\n",
       "      <td>1.4</td>\n",
       "      <td>0.2</td>\n",
       "      <td>Setosa</td>\n",
       "    </tr>\n",
       "    <tr>\n",
       "      <th>2</th>\n",
       "      <td>4.7</td>\n",
       "      <td>3.2</td>\n",
       "      <td>1.3</td>\n",
       "      <td>0.2</td>\n",
       "      <td>Setosa</td>\n",
       "    </tr>\n",
       "    <tr>\n",
       "      <th>3</th>\n",
       "      <td>4.6</td>\n",
       "      <td>3.1</td>\n",
       "      <td>1.5</td>\n",
       "      <td>0.2</td>\n",
       "      <td>Setosa</td>\n",
       "    </tr>\n",
       "    <tr>\n",
       "      <th>4</th>\n",
       "      <td>5.0</td>\n",
       "      <td>3.6</td>\n",
       "      <td>1.4</td>\n",
       "      <td>0.2</td>\n",
       "      <td>Setosa</td>\n",
       "    </tr>\n",
       "  </tbody>\n",
       "</table>\n",
       "</div>"
      ],
      "text/plain": [
       "   sepal.length  sepal.width  petal.length  petal.width variety\n",
       "0           5.1          3.5           1.4          0.2  Setosa\n",
       "1           4.9          3.0           1.4          0.2  Setosa\n",
       "2           4.7          3.2           1.3          0.2  Setosa\n",
       "3           4.6          3.1           1.5          0.2  Setosa\n",
       "4           5.0          3.6           1.4          0.2  Setosa"
      ]
     },
     "execution_count": 13,
     "metadata": {},
     "output_type": "execute_result"
    }
   ],
   "source": [
    "import pandas as pd\n",
    "import numpy as np\n",
    "\n",
    "import matplotlib.pyplot as plt\n",
    "\n",
    "from sklearn.cluster import KMeans\n",
    "\n",
    "pd.set_option(\"display.max.columns\", None)\n",
    "df = pd.read_csv(\"../../Datasets/Iris/iris.csv\")\n",
    "\n",
    "df.head()"
   ]
  },
  {
   "cell_type": "markdown",
   "metadata": {},
   "source": [
    "## Implémentation"
   ]
  },
  {
   "cell_type": "code",
   "execution_count": 26,
   "metadata": {},
   "outputs": [
    {
     "data": {
      "text/plain": [
       "<matplotlib.collections.PathCollection at 0x7f1eb9d8dc10>"
      ]
     },
     "execution_count": 26,
     "metadata": {},
     "output_type": "execute_result"
    },
    {
     "data": {
      "image/png": "[encoded data removed]",
      "text/plain": [
       "<Figure size 432x288 with 1 Axes>"
      ]
     },
     "metadata": {
      "needs_background": "light"
     },
     "output_type": "display_data"
    }
   ],
   "source": [
    "# Initialisation de X : le dataframe contenant les features qui vont servir pour l'entraînement\n",
    "X = df[[\"petal.length\", \"petal.width\", \"sepal.length\", \"sepal.width\"]]\n",
    "y = df[\"variety\"]\n",
    "\n",
    "# Définition du modèle \n",
    "model = KMeans(\n",
    "    n_clusters=3,\n",
    "    max_iter=100\n",
    ")\n",
    "\n",
    "# Entraînement et prédiction \n",
    "y_km = model.fit_predict(X)\n",
    "\n",
    "# Visualisation \n",
    "colormap = np.array(['Red', 'green', 'blue'])\n",
    "plt.scatter(df[[\"petal.length\"]], df[[\"petal.width\"]], c = colormap[model.labels_])"
   ]
  },
  {
   "cell_type": "markdown",
   "metadata": {},
   "source": [
    "## Hyper-paramètres\n",
    "* n_cluster = Le nombre de cluster ***int***\n",
    "* init = Méthode d'initialisation ***{'k-means++', 'random'}***\n",
    "    * k-means++ : initialisation otpimisée pour une convergence rapide\n",
    "    * random : initialisation aléatoire\n",
    "* n_init = Nombre de d'exécutions différentes de l'algorithme (le meilleur résultats sera gardé) ***int***\n",
    "* max_iter = Nombre d'itération maximale pour une exécution ***int***\n",
    "* verbose = Le mode d'affichage ***{0, 1}***\n",
    "    * 0 : Aucun affichage\n",
    "    * 1 : Affichage activé\n",
    "* algorithm : Algorithme utilisé ***{'auto', 'full', 'elkan'}***\n",
    "    * auto : sélectionne l'algo **elkan** (susceptible au changement)\n",
    "    * full : algorithme de base\n",
    "    * elkan : algorithme plus efficace pour les clusters bien définis (mais consomme un peu plus de RAM)\n"
   ]
  },
  {
   "cell_type": "code",
   "execution_count": null,
   "metadata": {},
   "outputs": [],
   "source": []
  },
  {
   "cell_type": "code",
   "execution_count": null,
   "metadata": {},
   "outputs": [],
   "source": []
  },
  {
   "cell_type": "code",
   "execution_count": null,
   "metadata": {},
   "outputs": [],
   "source": []
  },
  {
   "cell_type": "code",
   "execution_count": null,
   "metadata": {},
   "outputs": [],
   "source": []
  }
 ],
 "metadata": {
  "kernelspec": {
   "display_name": "Python 3",
   "language": "python",
   "name": "python3"
  },
  "language_info": {
   "codemirror_mode": {
    "name": "ipython",
    "version": 3
   },
   "file_extension": ".py",
   "mimetype": "text/x-python",
   "name": "python",
   "nbconvert_exporter": "python",
   "pygments_lexer": "ipython3",
   "version": "3.8.5"
  }
 },
 "nbformat": 4,
 "nbformat_minor": 4
}
